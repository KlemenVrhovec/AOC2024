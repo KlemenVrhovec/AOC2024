{
 "cells": [
  {
   "cell_type": "markdown",
   "id": "e848dd6c-6d20-40ba-8d11-aa0c0265125a",
   "metadata": {},
   "source": [
    "# AOC D1\n",
    "\n",
    "## Part one\n",
    "\n",
    "Example data\n",
    "\n",
    "3   4\n",
    "\n",
    "4   3\n",
    "\n",
    "2   5\n",
    "\n",
    "1   3\n",
    "\n",
    "3   9\n",
    "\n",
    "3   3\n",
    "\n",
    "Maybe the lists are only off by a small amount! To find out, pair up the numbers and measure how far apart they are. Pair up the smallest number in the left list with the smallest number in the right list, then the second-smallest left number with the second-smallest right number, and so on.\n",
    "\n",
    "Within each pair, figure out how far apart the two numbers are; you'll need to add up all of those distances. For example, if you pair up a 3 from the left list with a 7 from the right list, the distance apart is 4; if you pair up a 9 with a 3, the distance apart is 6.\n",
    "\n",
    "In the example list above, the pairs and distances would be as follows:\n",
    "\n",
    "- The smallest number in the left list is 1, and the smallest number in the right list is 3. The distance between them is 2.\n",
    "- The second-smallest number in the left list is 2, and the second-smallest number in the right list is another 3. The distance between them is 1.\n",
    "The third-smallest number in both lists is 3, so the distance between them is 0.\n",
    "The next numbers to pair up are 3 and 4, a distance of 1.\n",
    "The fifth-smallest numbers in each list are 3 and 5, a distance of 2.\n",
    "Finally, the largest number in the left list is 4, while the largest number in the right list is 9; these are a distance 5 apart.\n",
    "\n",
    "To find the total distance between the left list and the right list, add up the distances between all of the pairs you found. In the example above, this is 2 + 1 + 0 + 1 + 2 + 5, a total distance of 11!"
   ]
  },
  {
   "cell_type": "code",
   "execution_count": 68,
   "id": "f021363b-0fcb-434e-ad63-f9b73ccad6e5",
   "metadata": {},
   "outputs": [],
   "source": [
    "import pandas as pd\n",
    "import numpy as np"
   ]
  },
  {
   "cell_type": "code",
   "execution_count": 78,
   "id": "e1a95b68-8550-4847-8e7f-4f8c20206102",
   "metadata": {},
   "outputs": [
    {
     "name": "stderr",
     "output_type": "stream",
     "text": [
      "C:\\Users\\Klemen\\AppData\\Local\\Temp\\ipykernel_18492\\2080562697.py:2: ParserWarning: Falling back to the 'python' engine because the 'c' engine does not support regex separators (separators > 1 char and different from '\\s+' are interpreted as regex); you can avoid this warning by specifying engine='python'.\n",
      "  df = pd.read_csv(\"data/AOC_1_1.csv\", header=None, sep='  ')\n"
     ]
    },
    {
     "data": {
      "text/html": [
       "<div>\n",
       "<style scoped>\n",
       "    .dataframe tbody tr th:only-of-type {\n",
       "        vertical-align: middle;\n",
       "    }\n",
       "\n",
       "    .dataframe tbody tr th {\n",
       "        vertical-align: top;\n",
       "    }\n",
       "\n",
       "    .dataframe thead th {\n",
       "        text-align: right;\n",
       "    }\n",
       "</style>\n",
       "<table border=\"1\" class=\"dataframe\">\n",
       "  <thead>\n",
       "    <tr style=\"text-align: right;\">\n",
       "      <th></th>\n",
       "      <th>0</th>\n",
       "      <th>1</th>\n",
       "    </tr>\n",
       "  </thead>\n",
       "  <tbody>\n",
       "    <tr>\n",
       "      <th>0</th>\n",
       "      <td>60236</td>\n",
       "      <td>87497</td>\n",
       "    </tr>\n",
       "    <tr>\n",
       "      <th>1</th>\n",
       "      <td>27507</td>\n",
       "      <td>18604</td>\n",
       "    </tr>\n",
       "    <tr>\n",
       "      <th>2</th>\n",
       "      <td>69810</td>\n",
       "      <td>73952</td>\n",
       "    </tr>\n",
       "    <tr>\n",
       "      <th>3</th>\n",
       "      <td>60448</td>\n",
       "      <td>56269</td>\n",
       "    </tr>\n",
       "    <tr>\n",
       "      <th>4</th>\n",
       "      <td>92139</td>\n",
       "      <td>61722</td>\n",
       "    </tr>\n",
       "  </tbody>\n",
       "</table>\n",
       "</div>"
      ],
      "text/plain": [
       "       0      1\n",
       "0  60236  87497\n",
       "1  27507  18604\n",
       "2  69810  73952\n",
       "3  60448  56269\n",
       "4  92139  61722"
      ]
     },
     "execution_count": 78,
     "metadata": {},
     "output_type": "execute_result"
    }
   ],
   "source": [
    "# Read the data\n",
    "df = pd.read_csv(\"data/AOC_1_1.csv\", header=None, sep='  ')\n",
    "df.head()"
   ]
  },
  {
   "cell_type": "code",
   "execution_count": 70,
   "id": "521828dd-7c1d-4905-8f7b-662d12d6bf24",
   "metadata": {},
   "outputs": [],
   "source": [
    "# Sort first and second column individual\n",
    "df_sorted = df[[0]].sort_values(by=0).reset_index(drop=True)\n",
    "df_sorted[1] = df[[1]].sort_values(by=1).reset_index(drop=True)"
   ]
  },
  {
   "cell_type": "code",
   "execution_count": 71,
   "id": "25e0f3b4-b400-4f04-aa2d-ecfda03d0a52",
   "metadata": {},
   "outputs": [
    {
     "data": {
      "text/plain": [
       "np.int64(1506483)"
      ]
     },
     "execution_count": 71,
     "metadata": {},
     "output_type": "execute_result"
    }
   ],
   "source": [
    "# calculate the sum of absolute diferences\n",
    "np.abs(df_sorted[0] - df_sorted[1]).sum()"
   ]
  },
  {
   "cell_type": "markdown",
   "id": "15d6387c-4db4-4f41-a630-6c9f64087fe6",
   "metadata": {},
   "source": [
    "### Answer is 1506483"
   ]
  },
  {
   "cell_type": "markdown",
   "id": "f6c02eb5-cfbd-4ff8-9511-a53b1c4d9918",
   "metadata": {},
   "source": [
    "## Part 2\n",
    "\n",
    "This time, you'll need to figure out exactly how often each number from the left list appears in the right list. Calculate a total similarity score by adding up each number in the left list after multiplying it by the number of times that number appears in the right list.\n",
    "\n",
    "Here are the same example lists again:\n",
    "\n",
    "3   4\n",
    "4   3\n",
    "2   5\n",
    "1   3\n",
    "3   9\n",
    "3   3\n",
    "For these example lists, here is the process of finding the similarity score:\n",
    "\n",
    "The first number in the left list is 3. It appears in the right list three times, so the similarity score increases by 3 * 3 = 9.\n",
    "The second number in the left list is 4. It appears in the right list once, so the similarity score increases by 4 * 1 = 4.\n",
    "The third number in the left list is 2. It does not appear in the right list, so the similarity score does not increase (2 * 0 = 0).\n",
    "The fourth number, 1, also does not appear in the right list.\n",
    "The fifth number, 3, appears in the right list three times; the similarity score increases by 9.\n",
    "The last number, 3, appears in the right list three times; the similarity score again increases by 9.\n",
    "So, for these example lists, the similarity score at the end of this process is 31 (9 + 4 + 0 + 0 + 9 + 9).\n",
    "\n",
    "Once again consider your left and right lists. What is their similarity score?"
   ]
  },
  {
   "cell_type": "code",
   "execution_count": 79,
   "id": "d9e3bf80-c9f7-4946-9395-e0901d8ef320",
   "metadata": {},
   "outputs": [],
   "source": [
    "# Create column with number of repeated numbers\n",
    "df = df.merge(pd.DataFrame(df[1].value_counts()).reset_index(), left_on=0, right_on=1, how='left')"
   ]
  },
  {
   "cell_type": "code",
   "execution_count": 80,
   "id": "49af1ae8-6fe2-4a40-a5b7-1931eafe1ff4",
   "metadata": {},
   "outputs": [
    {
     "data": {
      "text/html": [
       "<div>\n",
       "<style scoped>\n",
       "    .dataframe tbody tr th:only-of-type {\n",
       "        vertical-align: middle;\n",
       "    }\n",
       "\n",
       "    .dataframe tbody tr th {\n",
       "        vertical-align: top;\n",
       "    }\n",
       "\n",
       "    .dataframe thead th {\n",
       "        text-align: right;\n",
       "    }\n",
       "</style>\n",
       "<table border=\"1\" class=\"dataframe\">\n",
       "  <thead>\n",
       "    <tr style=\"text-align: right;\">\n",
       "      <th></th>\n",
       "      <th>0</th>\n",
       "      <th>1_x</th>\n",
       "      <th>1_y</th>\n",
       "      <th>count</th>\n",
       "    </tr>\n",
       "  </thead>\n",
       "  <tbody>\n",
       "    <tr>\n",
       "      <th>0</th>\n",
       "      <td>60236</td>\n",
       "      <td>87497</td>\n",
       "      <td>NaN</td>\n",
       "      <td>NaN</td>\n",
       "    </tr>\n",
       "    <tr>\n",
       "      <th>1</th>\n",
       "      <td>27507</td>\n",
       "      <td>18604</td>\n",
       "      <td>NaN</td>\n",
       "      <td>NaN</td>\n",
       "    </tr>\n",
       "    <tr>\n",
       "      <th>2</th>\n",
       "      <td>69810</td>\n",
       "      <td>73952</td>\n",
       "      <td>NaN</td>\n",
       "      <td>NaN</td>\n",
       "    </tr>\n",
       "    <tr>\n",
       "      <th>3</th>\n",
       "      <td>60448</td>\n",
       "      <td>56269</td>\n",
       "      <td>NaN</td>\n",
       "      <td>NaN</td>\n",
       "    </tr>\n",
       "    <tr>\n",
       "      <th>4</th>\n",
       "      <td>92139</td>\n",
       "      <td>61722</td>\n",
       "      <td>NaN</td>\n",
       "      <td>NaN</td>\n",
       "    </tr>\n",
       "  </tbody>\n",
       "</table>\n",
       "</div>"
      ],
      "text/plain": [
       "       0    1_x  1_y  count\n",
       "0  60236  87497  NaN    NaN\n",
       "1  27507  18604  NaN    NaN\n",
       "2  69810  73952  NaN    NaN\n",
       "3  60448  56269  NaN    NaN\n",
       "4  92139  61722  NaN    NaN"
      ]
     },
     "execution_count": 80,
     "metadata": {},
     "output_type": "execute_result"
    }
   ],
   "source": [
    "df.head()"
   ]
  },
  {
   "cell_type": "code",
   "execution_count": 81,
   "id": "77b37555-5ed7-42cc-8a8e-654fd26c983a",
   "metadata": {},
   "outputs": [
    {
     "data": {
      "text/plain": [
       "np.float64(23126924.0)"
      ]
     },
     "execution_count": 81,
     "metadata": {},
     "output_type": "execute_result"
    }
   ],
   "source": [
    "# Sum up the column multiplied with count\n",
    "(df_temp[\"count\"] * df_temp[0]).sum()"
   ]
  },
  {
   "cell_type": "code",
   "execution_count": null,
   "id": "aefc876f-453f-490c-bd43-662e6e40f4d7",
   "metadata": {},
   "outputs": [],
   "source": []
  }
 ],
 "metadata": {
  "kernelspec": {
   "display_name": "Python 3 (ipykernel)",
   "language": "python",
   "name": "python3"
  },
  "language_info": {
   "codemirror_mode": {
    "name": "ipython",
    "version": 3
   },
   "file_extension": ".py",
   "mimetype": "text/x-python",
   "name": "python",
   "nbconvert_exporter": "python",
   "pygments_lexer": "ipython3",
   "version": "3.12.2"
  }
 },
 "nbformat": 4,
 "nbformat_minor": 5
}
