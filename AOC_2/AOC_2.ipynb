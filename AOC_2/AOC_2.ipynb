{
 "cells": [
  {
   "cell_type": "markdown",
   "id": "5e4bfbda-403b-4081-b5e4-4a1a2080f302",
   "metadata": {},
   "source": [
    "# AOC D2\n",
    "\n",
    "## Part one\n",
    "\n",
    "7 6 4 2 1\n",
    "\n",
    "1 2 7 8 9\n",
    "\n",
    "9 7 6 2 1\n",
    "\n",
    "1 3 2 4 5\n",
    "\n",
    "8 6 4 4 1\n",
    "\n",
    "1 3 6 7 9\n",
    "\n",
    "This example data contains six reports each containing five levels.\n",
    "\n",
    "The engineers are trying to figure out which reports are safe. The Red-Nosed reactor safety systems can only tolerate levels that are either gradually increasing or gradually decreasing. So, a report only counts as safe if both of the following are true:\n",
    "\n",
    "The levels are either all increasing or all decreasing.\n",
    "Any two adjacent levels differ by at least one and at most three.\n",
    "In the example above, the reports can be found safe or unsafe by checking those rules:\n",
    "\n",
    "7 6 4 2 1: Safe because the levels are all decreasing by 1 or 2.\n",
    "1 2 7 8 9: Unsafe because 2 7 is an increase of 5.\n",
    "9 7 6 2 1: Unsafe because 6 2 is a decrease of 4.\n",
    "1 3 2 4 5: Unsafe because 1 3 is increasing but 3 2 is decreasing.\n",
    "8 6 4 4 1: Unsafe because 4 4 is neither an increase or a decrease.\n",
    "1 3 6 7 9: Safe because the levels are all increasing by 1, 2, or 3.\n",
    "So, in this example, 2 reports are safe.\n",
    "\n",
    "Analyze the unusual data from the engineers. How many reports are safe?"
   ]
  },
  {
   "cell_type": "code",
   "execution_count": 282,
   "id": "dc96b8bd-cc19-476c-9e8b-13cb6720f775",
   "metadata": {},
   "outputs": [],
   "source": [
    "import pandas as pd\n",
    "import numpy as np"
   ]
  },
  {
   "cell_type": "code",
   "execution_count": 283,
   "id": "6000caee-2a93-4fb3-905b-8b2fc846928f",
   "metadata": {},
   "outputs": [],
   "source": [
    "#Using list since there are different number of columns\n",
    "\n",
    "#with open('data/AOC_2.csv', 'r') as f:\n",
    "#    data = [line.strip().split() for line in f]\n",
    "\n",
    "with open('data/AOC_2.csv', 'r') as f:\n",
    "    data = [[int(num) for num in line.strip().split()] for line in f]"
   ]
  },
  {
   "cell_type": "code",
   "execution_count": 284,
   "id": "6754e74e-d482-4b3e-823d-78ca24f7f14f",
   "metadata": {},
   "outputs": [
    {
     "data": {
      "text/plain": [
       "[62, 65, 67, 70, 73, 76, 75]"
      ]
     },
     "execution_count": 284,
     "metadata": {},
     "output_type": "execute_result"
    }
   ],
   "source": [
    "#Check data\n",
    "data[0]"
   ]
  },
  {
   "cell_type": "code",
   "execution_count": 285,
   "id": "c65a3b9f-33a2-4748-b84e-e798f5b19367",
   "metadata": {},
   "outputs": [],
   "source": [
    "#loop over rows and check criteria\n",
    "count = 0\n",
    "for row in data:\n",
    "    for i in range(len(row) - 1):\n",
    "        if row[1]-row[0] > 0:\n",
    "            if 1 > row[i+1] - row[i] or row[i+1] - row[i] >3:\n",
    "                break\n",
    "        elif row[1]-row[0] < 0:\n",
    "            if 1 > row[i] - row[i+1] or row[i] - row[i+1] >3:\n",
    "                break\n",
    "        else:\n",
    "            break\n",
    "        if i == len(row) - 2:\n",
    "            count += 1\n",
    "    "
   ]
  },
  {
   "cell_type": "code",
   "execution_count": 286,
   "id": "f8d9a9de-a8e8-4117-9843-8fb2e6b686e1",
   "metadata": {},
   "outputs": [
    {
     "data": {
      "text/plain": [
       "383"
      ]
     },
     "execution_count": 286,
     "metadata": {},
     "output_type": "execute_result"
    }
   ],
   "source": [
    "count"
   ]
  },
  {
   "cell_type": "markdown",
   "id": "54d738f4-df10-4c2d-a163-f9822e187b89",
   "metadata": {},
   "source": [
    "## Part two\n",
    "\n",
    "The engineers are surprised by the low number of safe reports until they realize they forgot to tell you about the Problem Dampener.\n",
    "\n",
    "The Problem Dampener is a reactor-mounted module that lets the reactor safety systems tolerate a single bad level in what would otherwise be a safe report. It's like the bad level never happened!\n",
    "\n",
    "Now, the same rules apply as before, except if removing a single level from an unsafe report would make it safe, the report instead counts as safe.\n",
    "\n",
    "More of the above example's reports are now safe:\n",
    "\n",
    "7 6 4 2 1: Safe without removing any level.\n",
    "\n",
    "1 2 7 8 9: Unsafe regardless of which level is removed.\n",
    "\n",
    "9 7 6 2 1: Unsafe regardless of which level is removed.\n",
    "\n",
    "1 3 2 4 5: Safe by removing the second level, 3.\n",
    "\n",
    "8 6 4 4 1: Safe by removing the third level, 4.\n",
    "\n",
    "1 3 6 7 9: Safe without removing any level.\n",
    "    \n",
    "Thanks to the Problem Dampener, 4 reports are actually safe!\n",
    "\n",
    "Update your analysis by handling situations where the Problem Dampener can remove a single level from unsafe reports. How many reports are now safe?"
   ]
  },
  {
   "cell_type": "code",
   "execution_count": 356,
   "id": "06e2db87-b82b-4d2e-8dd2-8d08ac16b54b",
   "metadata": {},
   "outputs": [],
   "source": [
    "#Solution number 1 with recursive, but I needed to check additional 3 scenarious\n",
    "\n",
    "def check_row(row, c=0, dampener=0):\n",
    "    for i in range(len(row) - 1):\n",
    "        if row[1]-row[0] > 0:\n",
    "            if 1 > row[i+1] - row[i] or row[i+1] - row[i] >3:\n",
    "                break\n",
    "        elif row[1]-row[0] < 0:\n",
    "            if 1 > row[i] - row[i+1] or row[i] - row[i+1] >3:\n",
    "                break\n",
    "        else:\n",
    "            break\n",
    "        if i == len(row) - 2:\n",
    "            c = 1\n",
    "    if c == 0 and dampener == 0:\n",
    "        #print(\"here\")\n",
    "        #print(row[:i] + row[i+1:])\n",
    "        #print(i)\n",
    "        c = check_row(row[:i] + row[i+1:], c, dampener= 1)\n",
    "        if c == 0:\n",
    "            c = check_row(row[:i+1] + row[i+2:], c, dampener= 1)\n",
    "        if c == 0:\n",
    "            c = check_row(row[:i-1] + row[i:], c, dampener= 1)\n",
    "    return c"
   ]
  },
  {
   "cell_type": "code",
   "execution_count": 357,
   "id": "85e834c9-3922-4b6d-9bb7-fcd35cfa245a",
   "metadata": {},
   "outputs": [
    {
     "data": {
      "text/plain": [
       "[27, 24, 25, 26, 28, 31, 34]"
      ]
     },
     "execution_count": 357,
     "metadata": {},
     "output_type": "execute_result"
    }
   ],
   "source": [
    "data[24]"
   ]
  },
  {
   "cell_type": "code",
   "execution_count": 359,
   "id": "6d7a1723-b95f-45e9-800e-b7b4b9622df9",
   "metadata": {},
   "outputs": [
    {
     "name": "stdout",
     "output_type": "stream",
     "text": [
      "436\n"
     ]
    }
   ],
   "source": [
    "count = 0\n",
    "l_r=[]\n",
    "for row in data:\n",
    "    dampener = 0\n",
    "    count += check_row(row)\n",
    "    l_r.append(check_row(row))\n",
    "print(count)"
   ]
  },
  {
   "cell_type": "code",
   "execution_count": 363,
   "id": "adc00d03-69d5-4f5a-ab46-7885e400496f",
   "metadata": {},
   "outputs": [
    {
     "name": "stdout",
     "output_type": "stream",
     "text": [
      "436\n"
     ]
    }
   ],
   "source": [
    "# Solution number 2 but here I needed to check all the combinations with one element missing\n",
    "\n",
    "count = 0\n",
    "l = []\n",
    "for row in data:\n",
    "    for j in range(len(row)):\n",
    "        r = row[:j] + row[j+1:]\n",
    "        c = 0\n",
    "        for i in range (len(r) - 1):\n",
    "            if r[1]-r[0] > 0:\n",
    "                if 1 > r[i+1] - r[i] or r[i+1] - r[i] >3:\n",
    "                    break\n",
    "            elif r[1]-r[0] < 0:\n",
    "                if 1 > r[i] - r[i+1] or r[i] - r[i+1] >3:\n",
    "                    break\n",
    "            else:\n",
    "               break\n",
    "            if i == len(r) - 2:\n",
    "                count += 1\n",
    "                c = 1\n",
    "        if c == 1:\n",
    "            break\n",
    "    l.append(c)\n",
    "print(count)\n",
    "    "
   ]
  },
  {
   "cell_type": "code",
   "execution_count": null,
   "id": "7a5f564e-6f52-4216-86f8-a4e962329538",
   "metadata": {},
   "outputs": [],
   "source": []
  }
 ],
 "metadata": {
  "kernelspec": {
   "display_name": "Python 3 (ipykernel)",
   "language": "python",
   "name": "python3"
  },
  "language_info": {
   "codemirror_mode": {
    "name": "ipython",
    "version": 3
   },
   "file_extension": ".py",
   "mimetype": "text/x-python",
   "name": "python",
   "nbconvert_exporter": "python",
   "pygments_lexer": "ipython3",
   "version": "3.12.2"
  }
 },
 "nbformat": 4,
 "nbformat_minor": 5
}
